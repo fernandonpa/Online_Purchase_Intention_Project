{
 "cells": [
  {
   "cell_type": "markdown",
   "id": "56ed4425",
   "metadata": {},
   "source": [
    "# Sample New Hypotheses\n",
    "## H1: Learn Curve has no impact on the intention to purchase online.\n",
    "Rationale: The ease of learning to use online platforms (Section 3, Q15-16) may influence consumer confidence and willingness to shop online during a crisis. A steep learning curve could deter purchases.\n",
    "Test: Use correlation analysis (e.g., Pearson’s correlation) or regression to assess the relationship between Learn Curve scores and Intention to Purchase Online (Q56-59).\n",
    "\n",
    "## H2: Product Availability has no impact on the intention to purchase online.\n",
    "Rationale: The availability of products on online platforms (Section 4, Q23-24) is critical during crises, as stock shortages may reduce purchase intentions.\n",
    "Test: Conduct a t-test or ANOVA to compare Intention to Purchase Online scores across groups with high vs. low perceptions of Product Availability.\n",
    "\n",
    "## H3: Privacy Protection has no impact on the intention to purchase online.\n",
    "Rationale: Concerns about data privacy (Section 5, Q33-34) may discourage online shopping, especially during crises when trust is paramount.\n",
    "Test: Use regression analysis to evaluate the effect of Privacy Protection scores on Intention to Purchase Online.\n",
    "\n",
    "## H4: Social Media Posts/Influence has no impact on the intention to purchase online.\n",
    "Rationale: Social media influence (Section 6, Q41-42) can shape consumer behavior through trends and peer recommendations, particularly in a crisis.\n",
    "Test: Perform a correlation analysis or structural equation modeling (SEM) to examine the relationship between Social Media Influence and Intention to Purchase Online.\n",
    "\n",
    "## H5: Attitude mediates the relationship between Perceived Usefulness and Intention to Purchase Online.\n",
    "Rationale: A positive attitude toward online shopping (Section 7, Q51-52) may strengthen the effect of Perceived Usefulness (Section 4, Q23-32) on purchase intentions.\n",
    "Test: Use mediation analysis (e.g., via SEM or PROCESS macro) to test if Attitude mediates the relationship between Perceived Usefulness and Intention to Purchase Online.\n",
    "\n",
    "## H6: Perceived Risk moderates the relationship between Social Influence and Intention to Purchase Online.\n",
    "Rationale: High perceived risk (Section 7, Q53-54) may weaken the effect of Social Influence (Section 6, Q39-50) on purchase intentions, as consumers may distrust recommendations during crises.\n",
    "Test: Conduct moderation analysis using regression or SEM to assess if Perceived Risk moderates the Social Influence–Intention relationship.\n",
    "\n",
    "## H7: Cost-effectiveness has no impact on the intention to purchase online.\n",
    "Rationale: Perceptions of cost-effectiveness (Section 4, Q27-28) may drive online purchases, especially during economic crises when consumers prioritize savings.\n",
    "\n",
    "Test: Use regression analysis to test the effect of Cost-effectiveness scores on Intention to Purchase Online.\n",
    "## H8: Online Reviews and Ratings have no impact on the intention to purchase online.\n",
    "Rationale: Positive online reviews (Section 6, Q43-44) can build trust and encourage purchases, particularly in uncertain times.\n",
    "Test: Perform a t-test or regression to evaluate the impact of Online Reviews and Ratings on Intention to Purchase Online.\n",
    "\n",
    "## H9: Payment Security has no impact on the intention to purchase online.\n",
    "Rationale: Trust in payment security (Section 5, Q35-36) is crucial for online transactions, and its absence may deter purchases during crises.\n",
    "Test: Use correlation or regression analysis to assess the relationship between Payment Security and Intention to Purchase Online.\n",
    "\n",
    "## H10: Demographic factors (e.g., age, education) moderate the relationship between Perceived Ease of Use and Intention to Purchase Online.\n",
    "Rationale: Demographic variables like age and education (Section 1) may influence how Perceived Ease of Use (Section 3, Q13-22) affects purchase intentions, as younger or more educated consumers may find platforms easier to use.\n",
    "Test: Use moderation analysis (e.g., regression with interaction terms or SEM) to test if demographic factors moderate the PEOU–Intention relationship."
   ]
  }
 ],
 "metadata": {
  "language_info": {
   "name": "python"
  }
 },
 "nbformat": 4,
 "nbformat_minor": 5
}
