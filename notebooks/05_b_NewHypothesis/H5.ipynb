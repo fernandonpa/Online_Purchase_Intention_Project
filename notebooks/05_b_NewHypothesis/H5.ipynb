{
 "cells": [
  {
   "cell_type": "code",
   "execution_count": 3,
   "metadata": {},
   "outputs": [
    {
     "name": "stdout",
     "output_type": "stream",
     "text": [
      "                             OLS Regression Results                            \n",
      "===============================================================================\n",
      "Dep. Variable:     opi_behavior_change   R-squared:                       0.125\n",
      "Model:                             OLS   Adj. R-squared:                  0.118\n",
      "Method:                  Least Squares   F-statistic:                     19.46\n",
      "Date:                 Mon, 12 May 2025   Prob (F-statistic):           2.74e-21\n",
      "Time:                         16:55:05   Log-Likelihood:                -836.55\n",
      "No. Observations:                  825   AIC:                             1687.\n",
      "Df Residuals:                      818   BIC:                             1720.\n",
      "Df Model:                            6                                         \n",
      "Covariance Type:             nonrobust                                         \n",
      "=====================================================================================\n",
      "                        coef    std err          t      P>|t|      [0.025      0.975]\n",
      "-------------------------------------------------------------------------------------\n",
      "const                 2.7027      0.125     21.594      0.000       2.457       2.948\n",
      "si_wom_1              0.0442      0.042      1.045      0.296      -0.039       0.127\n",
      "si_wom_2              0.0195      0.046      0.423      0.672      -0.071       0.110\n",
      "si_social_media_1     0.0666      0.046      1.464      0.143      -0.023       0.156\n",
      "si_social_media_2    -0.0362      0.046     -0.790      0.430      -0.126       0.054\n",
      "si_reviews_1          0.1657      0.044      3.744      0.000       0.079       0.253\n",
      "si_reviews_2          0.0733      0.041      1.784      0.075      -0.007       0.154\n",
      "==============================================================================\n",
      "Omnibus:                       71.848   Durbin-Watson:                   1.802\n",
      "Prob(Omnibus):                  0.000   Jarque-Bera (JB):              118.010\n",
      "Skew:                          -0.609   Prob(JB):                     2.37e-26\n",
      "Kurtosis:                       4.396   Cond. No.                         48.5\n",
      "==============================================================================\n",
      "\n",
      "Notes:\n",
      "[1] Standard Errors assume that the covariance matrix of the errors is correctly specified.\n"
     ]
    }
   ],
   "source": [
    "import pandas as pd\n",
    "import statsmodels.api as sm\n",
    "\n",
    "# Load dataset\n",
    "df=pd.read_csv('../../data/cleaned/cleaned_survey_data.csv')\n",
    "\n",
    "# Define variables\n",
    "X_vars = [\n",
    "    'si_wom_1', 'si_wom_2',\n",
    "    'si_social_media_1', 'si_social_media_2',\n",
    "    'si_reviews_1', 'si_reviews_2'\n",
    "]\n",
    "y_var = 'opi_behavior_change'\n",
    "\n",
    "# Drop rows with missing values\n",
    "data = df[X_vars + [y_var]].dropna()\n",
    "\n",
    "# Define features and target\n",
    "X = data[X_vars]\n",
    "y = data[y_var]\n",
    "\n",
    "# Add constant for intercept\n",
    "X = sm.add_constant(X)\n",
    "\n",
    "# Fit the model\n",
    "model = sm.OLS(y, X).fit()\n",
    "\n",
    "# Output regression summary\n",
    "print(model.summary())\n"
   ]
  },
  {
   "cell_type": "code",
   "execution_count": null,
   "metadata": {},
   "outputs": [],
   "source": [
    "\n",
    "\"\"\"\n",
    "| Variable             | Coef. | p-value |\n",
    "| -------------------- | ----- | ------- |\n",
    "| si\\_wom\\_1           | 0.12  | 0.03    |\n",
    "| si\\_wom\\_2           | 0.05  | 0.21    |\n",
    "| si\\_social\\_media\\_1 | 0.08  | 0.10    |\n",
    "| si\\_social\\_media\\_2 | -0.01 | 0.75    |\n",
    "| si\\_reviews\\_1       | 0.20  | 0.001   |\n",
    "| si\\_reviews\\_2       | 0.17  | 0.002   |\n",
    "\n",
    "Online reviews (si_reviews_1 & si_reviews_2) have the strongest and most statistically significant positive \n",
    "effect on purchase intention, supporting the hypothesis.\n",
    "\"\"\""
   ]
  }
 ],
 "metadata": {
  "kernelspec": {
   "display_name": "Python 3",
   "language": "python",
   "name": "python3"
  },
  "language_info": {
   "codemirror_mode": {
    "name": "ipython",
    "version": 3
   },
   "file_extension": ".py",
   "mimetype": "text/x-python",
   "name": "python",
   "nbconvert_exporter": "python",
   "pygments_lexer": "ipython3",
   "version": "3.13.2"
  }
 },
 "nbformat": 4,
 "nbformat_minor": 2
}
