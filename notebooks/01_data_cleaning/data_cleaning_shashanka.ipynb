{
 "cells": [
  {
   "cell_type": "code",
   "execution_count": 1,
   "id": "61d06869",
   "metadata": {},
   "outputs": [],
   "source": [
    "import pandas as pd\n",
    "import numpy as np"
   ]
  },
  {
   "cell_type": "code",
   "execution_count": 10,
   "id": "23f4081a",
   "metadata": {},
   "outputs": [
    {
     "data": {
      "text/html": [
       "<div>\n",
       "<style scoped>\n",
       "    .dataframe tbody tr th:only-of-type {\n",
       "        vertical-align: middle;\n",
       "    }\n",
       "\n",
       "    .dataframe tbody tr th {\n",
       "        vertical-align: top;\n",
       "    }\n",
       "\n",
       "    .dataframe thead th {\n",
       "        text-align: right;\n",
       "    }\n",
       "</style>\n",
       "<table border=\"1\" class=\"dataframe\">\n",
       "  <thead>\n",
       "    <tr style=\"text-align: right;\">\n",
       "      <th></th>\n",
       "      <th>timestamp</th>\n",
       "      <th>peou_navigation_1</th>\n",
       "      <th>peou_navigation_2</th>\n",
       "      <th>peou_learning_1</th>\n",
       "      <th>peou_learning_2</th>\n",
       "      <th>peou_instructions_1</th>\n",
       "      <th>peou_instructions_2</th>\n",
       "      <th>peou_response_1</th>\n",
       "      <th>peou_response_2</th>\n",
       "      <th>peou_error_1</th>\n",
       "      <th>...</th>\n",
       "      <th>prof_jobless</th>\n",
       "      <th>prof_self_employed___entrepreneur</th>\n",
       "      <th>prof_student</th>\n",
       "      <th>prof_unemployed</th>\n",
       "      <th>education_encoded</th>\n",
       "      <th>opi_purchased?</th>\n",
       "      <th>op_None</th>\n",
       "      <th>fabr_None</th>\n",
       "      <th>gds_None</th>\n",
       "      <th>sos_automobile_None</th>\n",
       "    </tr>\n",
       "  </thead>\n",
       "  <tbody>\n",
       "    <tr>\n",
       "      <th>0</th>\n",
       "      <td>2023-08-02 23:59:11.684</td>\n",
       "      <td>4</td>\n",
       "      <td>4</td>\n",
       "      <td>4</td>\n",
       "      <td>4</td>\n",
       "      <td>4</td>\n",
       "      <td>4</td>\n",
       "      <td>4</td>\n",
       "      <td>3</td>\n",
       "      <td>4</td>\n",
       "      <td>...</td>\n",
       "      <td>0</td>\n",
       "      <td>0</td>\n",
       "      <td>0</td>\n",
       "      <td>0</td>\n",
       "      <td>4</td>\n",
       "      <td>1</td>\n",
       "      <td>0</td>\n",
       "      <td>0</td>\n",
       "      <td>0</td>\n",
       "      <td>0</td>\n",
       "    </tr>\n",
       "    <tr>\n",
       "      <th>1</th>\n",
       "      <td>2023-08-03 00:04:13.800</td>\n",
       "      <td>4</td>\n",
       "      <td>3</td>\n",
       "      <td>4</td>\n",
       "      <td>4</td>\n",
       "      <td>3</td>\n",
       "      <td>3</td>\n",
       "      <td>3</td>\n",
       "      <td>3</td>\n",
       "      <td>3</td>\n",
       "      <td>...</td>\n",
       "      <td>0</td>\n",
       "      <td>0</td>\n",
       "      <td>0</td>\n",
       "      <td>0</td>\n",
       "      <td>4</td>\n",
       "      <td>1</td>\n",
       "      <td>0</td>\n",
       "      <td>0</td>\n",
       "      <td>0</td>\n",
       "      <td>0</td>\n",
       "    </tr>\n",
       "    <tr>\n",
       "      <th>2</th>\n",
       "      <td>2023-08-03 00:15:31.602</td>\n",
       "      <td>3</td>\n",
       "      <td>4</td>\n",
       "      <td>4</td>\n",
       "      <td>3</td>\n",
       "      <td>4</td>\n",
       "      <td>4</td>\n",
       "      <td>4</td>\n",
       "      <td>3</td>\n",
       "      <td>4</td>\n",
       "      <td>...</td>\n",
       "      <td>0</td>\n",
       "      <td>0</td>\n",
       "      <td>0</td>\n",
       "      <td>0</td>\n",
       "      <td>4</td>\n",
       "      <td>1</td>\n",
       "      <td>0</td>\n",
       "      <td>0</td>\n",
       "      <td>0</td>\n",
       "      <td>0</td>\n",
       "    </tr>\n",
       "    <tr>\n",
       "      <th>3</th>\n",
       "      <td>2023-08-03 00:20:49.096</td>\n",
       "      <td>4</td>\n",
       "      <td>3</td>\n",
       "      <td>2</td>\n",
       "      <td>3</td>\n",
       "      <td>3</td>\n",
       "      <td>2</td>\n",
       "      <td>2</td>\n",
       "      <td>2</td>\n",
       "      <td>1</td>\n",
       "      <td>...</td>\n",
       "      <td>0</td>\n",
       "      <td>0</td>\n",
       "      <td>0</td>\n",
       "      <td>0</td>\n",
       "      <td>6</td>\n",
       "      <td>1</td>\n",
       "      <td>0</td>\n",
       "      <td>0</td>\n",
       "      <td>0</td>\n",
       "      <td>0</td>\n",
       "    </tr>\n",
       "    <tr>\n",
       "      <th>4</th>\n",
       "      <td>2023-08-03 00:23:52.006</td>\n",
       "      <td>3</td>\n",
       "      <td>4</td>\n",
       "      <td>4</td>\n",
       "      <td>4</td>\n",
       "      <td>4</td>\n",
       "      <td>3</td>\n",
       "      <td>3</td>\n",
       "      <td>4</td>\n",
       "      <td>4</td>\n",
       "      <td>...</td>\n",
       "      <td>0</td>\n",
       "      <td>0</td>\n",
       "      <td>0</td>\n",
       "      <td>0</td>\n",
       "      <td>4</td>\n",
       "      <td>1</td>\n",
       "      <td>0</td>\n",
       "      <td>0</td>\n",
       "      <td>0</td>\n",
       "      <td>0</td>\n",
       "    </tr>\n",
       "  </tbody>\n",
       "</table>\n",
       "<p>5 rows × 137 columns</p>\n",
       "</div>"
      ],
      "text/plain": [
       "                 timestamp  peou_navigation_1  peou_navigation_2  \\\n",
       "0  2023-08-02 23:59:11.684                  4                  4   \n",
       "1  2023-08-03 00:04:13.800                  4                  3   \n",
       "2  2023-08-03 00:15:31.602                  3                  4   \n",
       "3  2023-08-03 00:20:49.096                  4                  3   \n",
       "4  2023-08-03 00:23:52.006                  3                  4   \n",
       "\n",
       "   peou_learning_1  peou_learning_2  peou_instructions_1  peou_instructions_2  \\\n",
       "0                4                4                    4                    4   \n",
       "1                4                4                    3                    3   \n",
       "2                4                3                    4                    4   \n",
       "3                2                3                    3                    2   \n",
       "4                4                4                    4                    3   \n",
       "\n",
       "   peou_response_1  peou_response_2  peou_error_1  ...  prof_jobless  \\\n",
       "0                4                3             4  ...             0   \n",
       "1                3                3             3  ...             0   \n",
       "2                4                3             4  ...             0   \n",
       "3                2                2             1  ...             0   \n",
       "4                3                4             4  ...             0   \n",
       "\n",
       "   prof_self_employed___entrepreneur  prof_student  prof_unemployed  \\\n",
       "0                                  0             0                0   \n",
       "1                                  0             0                0   \n",
       "2                                  0             0                0   \n",
       "3                                  0             0                0   \n",
       "4                                  0             0                0   \n",
       "\n",
       "   education_encoded  opi_purchased?  op_None  fabr_None  gds_None  \\\n",
       "0                  4               1        0          0         0   \n",
       "1                  4               1        0          0         0   \n",
       "2                  4               1        0          0         0   \n",
       "3                  6               1        0          0         0   \n",
       "4                  4               1        0          0         0   \n",
       "\n",
       "   sos_automobile_None  \n",
       "0                    0  \n",
       "1                    0  \n",
       "2                    0  \n",
       "3                    0  \n",
       "4                    0  \n",
       "\n",
       "[5 rows x 137 columns]"
      ]
     },
     "execution_count": 10,
     "metadata": {},
     "output_type": "execute_result"
    }
   ],
   "source": [
    "data=pd.read_csv('../../data/cleaned/cleaned_survey_data.csv')\n",
    "data.head()"
   ]
  },
  {
   "cell_type": "code",
   "execution_count": 11,
   "id": "fa9bcdb4",
   "metadata": {},
   "outputs": [
    {
     "name": "stdout",
     "output_type": "stream",
     "text": [
      "['fabr_', 'fabr_amanthe', 'fabr_carlo_clothing', 'fabr_chenara_dodge', 'fabr_didn’t_used', 'fabr_gflock', 'fabr_kynd_fashion', 'fabr_kelly_felder', 'fabr_moods', 'fabr_moose', 'fabr_nills', 'fabr_nolimitlk___gflocklk', 'fabr_noorareedlk', 'fabr_s&s', 'fabr_spring_and_summer', 'fabr_tharshana_and_insta_shops', 'fabr_zigzaglk', 'fabr_carnage', 'fabr_dsi', 'fabr_fashionbuglk', 'fabr_kaprukacom_fashion', 'fabr_midnightdivascom', 'fabr_mimosa', 'fabr_odellk', 'fabr_thilakawardanalk', 'fabr_None']\n"
     ]
    }
   ],
   "source": [
    "fabr_cols = [col for col in data.columns if col.startswith('fabr_')]\n",
    "print(fabr_cols)"
   ]
  },
  {
   "cell_type": "code",
   "execution_count": 13,
   "id": "e7f97ba1",
   "metadata": {},
   "outputs": [
    {
     "name": "stdout",
     "output_type": "stream",
     "text": [
      "fabr_s&s\n",
      "0    823\n",
      "1      2\n",
      "Name: count, dtype: int64\n",
      "fabr_spring_and_summer\n",
      "0    784\n",
      "1     41\n",
      "Name: count, dtype: int64\n"
     ]
    }
   ],
   "source": [
    "print(data['fabr_s&s'].value_counts())\n",
    "print(data['fabr_spring_and_summer'].value_counts())"
   ]
  },
  {
   "cell_type": "code",
   "execution_count": 14,
   "id": "7a06e418",
   "metadata": {},
   "outputs": [
    {
     "name": "stdout",
     "output_type": "stream",
     "text": [
      "fabr_spring_and_summer\n",
      "0    782\n",
      "1     43\n",
      "Name: count, dtype: int64\n"
     ]
    }
   ],
   "source": [
    "data[\"fabr_spring_and_summer\"]=data['fabr_s&s'] | data['fabr_spring_and_summer']\n",
    "print(data['fabr_spring_and_summer'].value_counts())"
   ]
  },
  {
   "cell_type": "code",
   "execution_count": 15,
   "id": "aa8a2c9a",
   "metadata": {},
   "outputs": [],
   "source": [
    "data=data.drop(columns=['fabr_s&s'],axis=1)"
   ]
  },
  {
   "cell_type": "code",
   "execution_count": 17,
   "id": "7be37783",
   "metadata": {},
   "outputs": [
    {
     "name": "stdout",
     "output_type": "stream",
     "text": [
      "['gds_', 'gds_cargillis_food_city', 'gds_cargillsonlinecom', 'gds_glomark', 'gds_keels', 'gds_arpicolk', 'gds_cinnamonhotelcom', 'gds_glomarklk', 'gds_keellssuperlk', 'gds_pickmefoodscom', 'gds_ubereatscom', 'gds_None']\n"
     ]
    }
   ],
   "source": [
    "gds_cols = [col for col in data.columns if col.startswith('gds_')]\n",
    "print(gds_cols)"
   ]
  },
  {
   "cell_type": "code",
   "execution_count": 19,
   "id": "cfbce6de",
   "metadata": {},
   "outputs": [
    {
     "name": "stdout",
     "output_type": "stream",
     "text": [
      "gds_cargillis_food_city\n",
      "0    823\n",
      "1      2\n",
      "Name: count, dtype: int64\n",
      "gds_cargillsonlinecom\n",
      "0    823\n",
      "1      2\n",
      "Name: count, dtype: int64\n",
      "gds_keellssuperlk\n",
      "1    556\n",
      "0    269\n",
      "Name: count, dtype: int64\n",
      "gds_keels\n",
      "0    823\n",
      "1      2\n",
      "Name: count, dtype: int64\n"
     ]
    }
   ],
   "source": [
    "print(data['gds_cargillis_food_city'].value_counts())\n",
    "print(data['gds_cargillsonlinecom'].value_counts())\n",
    "print(data['gds_keellssuperlk'].value_counts())\n",
    "print(data['gds_keels'].value_counts())"
   ]
  },
  {
   "cell_type": "code",
   "execution_count": 20,
   "id": "a0311d6f",
   "metadata": {},
   "outputs": [
    {
     "name": "stdout",
     "output_type": "stream",
     "text": [
      "gds_cargillis_food_city\n",
      "0    821\n",
      "1      4\n",
      "Name: count, dtype: int64\n"
     ]
    }
   ],
   "source": [
    "data[\"gds_cargillis_food_city\"]=data['gds_cargillis_food_city'] | data['gds_cargillsonlinecom']\n",
    "print(data['gds_cargillis_food_city'].value_counts())"
   ]
  },
  {
   "cell_type": "code",
   "execution_count": 21,
   "id": "b341e291",
   "metadata": {},
   "outputs": [],
   "source": [
    "data=data.drop(columns=['gds_cargillsonlinecom'],axis=1)"
   ]
  },
  {
   "cell_type": "code",
   "execution_count": 23,
   "id": "4538bde7",
   "metadata": {},
   "outputs": [
    {
     "data": {
      "text/plain": [
       "(825, 135)"
      ]
     },
     "execution_count": 23,
     "metadata": {},
     "output_type": "execute_result"
    }
   ],
   "source": [
    "data.shape"
   ]
  },
  {
   "cell_type": "code",
   "execution_count": 22,
   "id": "e2d8e330",
   "metadata": {},
   "outputs": [
    {
     "name": "stdout",
     "output_type": "stream",
     "text": [
      "gds_keellssuperlk\n",
      "1    556\n",
      "0    269\n",
      "Name: count, dtype: int64\n"
     ]
    }
   ],
   "source": [
    "data[\"gds_keellssuperlk\"]=data['gds_keellssuperlk'] | data['gds_keels']\n",
    "print(data['gds_keellssuperlk'].value_counts())"
   ]
  },
  {
   "cell_type": "code",
   "execution_count": 24,
   "id": "0a06b5ac",
   "metadata": {},
   "outputs": [],
   "source": [
    "data=data.drop(columns=['gds_keels'],axis=1)"
   ]
  },
  {
   "cell_type": "code",
   "execution_count": 25,
   "id": "15235462",
   "metadata": {},
   "outputs": [],
   "source": [
    "data.to_csv('../../data/cleaned/cleaned_survey_data.csv', index=False)"
   ]
  },
  {
   "cell_type": "code",
   "execution_count": null,
   "id": "bef68f27",
   "metadata": {},
   "outputs": [],
   "source": []
  }
 ],
 "metadata": {
  "kernelspec": {
   "display_name": "Python 3",
   "language": "python",
   "name": "python3"
  },
  "language_info": {
   "codemirror_mode": {
    "name": "ipython",
    "version": 3
   },
   "file_extension": ".py",
   "mimetype": "text/x-python",
   "name": "python",
   "nbconvert_exporter": "python",
   "pygments_lexer": "ipython3",
   "version": "3.13.1"
  }
 },
 "nbformat": 4,
 "nbformat_minor": 5
}
